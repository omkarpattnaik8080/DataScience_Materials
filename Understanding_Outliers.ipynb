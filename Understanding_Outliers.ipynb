{
  "nbformat": 4,
  "nbformat_minor": 0,
  "metadata": {
    "colab": {
      "provenance": [],
      "authorship_tag": "ABX9TyOqE6CfTxH16raVCZoC+4oc",
      "include_colab_link": true
    },
    "kernelspec": {
      "name": "python3",
      "display_name": "Python 3"
    },
    "language_info": {
      "name": "python"
    }
  },
  "cells": [
    {
      "cell_type": "markdown",
      "metadata": {
        "id": "view-in-github",
        "colab_type": "text"
      },
      "source": [
        "<a href=\"https://colab.research.google.com/github/omkarpattnaik8080/DataScience_Materials/blob/main/Understanding_Outliers.ipynb\" target=\"_parent\"><img src=\"https://colab.research.google.com/assets/colab-badge.svg\" alt=\"Open In Colab\"/></a>"
      ]
    },
    {
      "cell_type": "code",
      "execution_count": 2,
      "metadata": {
        "id": "Ah8fev1rrPsn"
      },
      "outputs": [],
      "source": [
        "import numpy as np\n",
        "import pandas as pd\n",
        "import matplotlib.pyplot as plt\n",
        "%matplotlib inline"
      ]
    },
    {
      "cell_type": "code",
      "source": [
        "#defining the dataset\n",
        "dataset=[11,10,12,14,12,15,14,13,12,10,107,25]"
      ],
      "metadata": {
        "id": "F3UiZeHgtjSr"
      },
      "execution_count": 4,
      "outputs": []
    },
    {
      "cell_type": "code",
      "source": [
        "plt.hist(dataset)"
      ],
      "metadata": {
        "colab": {
          "base_uri": "https://localhost:8080/",
          "height": 503
        },
        "id": "HUIsUxtJtjag",
        "outputId": "c136cb1f-e91e-407d-87e0-f1ebc80a821e"
      },
      "execution_count": 5,
      "outputs": [
        {
          "output_type": "execute_result",
          "data": {
            "text/plain": [
              "(array([10.,  1.,  0.,  0.,  0.,  0.,  0.,  0.,  0.,  1.]),\n",
              " array([ 10. ,  19.7,  29.4,  39.1,  48.8,  58.5,  68.2,  77.9,  87.6,\n",
              "         97.3, 107. ]),\n",
              " <BarContainer object of 10 artists>)"
            ]
          },
          "metadata": {},
          "execution_count": 5
        },
        {
          "output_type": "display_data",
          "data": {
            "text/plain": [
              "<Figure size 640x480 with 1 Axes>"
            ],
            "image/png": "[encoded data removed]"
          },
          "metadata": {}
        }
      ]
    },
    {
      "cell_type": "code",
      "source": [
        "#To find out outliers we have 2 techniques Z-score\n",
        "outliers=[]\n",
        "def detect_outliers(data):\n",
        "  threshold=3\n",
        "  mean=np.mean(data)\n",
        "  std=np.std(data)"
      ],
      "metadata": {
        "id": "NDx_uQ-WtjdU"
      },
      "execution_count": 6,
      "outputs": []
    },
    {
      "cell_type": "code",
      "source": [],
      "metadata": {
        "id": "N-jFiGbVtjgk"
      },
      "execution_count": null,
      "outputs": []
    }
  ]
}